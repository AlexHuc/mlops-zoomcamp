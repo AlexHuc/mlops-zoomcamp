{
 "cells": [
  {
   "cell_type": "code",
   "execution_count": null,
   "id": "32d9c3e1-2836-4f3f-bf88-1b6cd2b1ac63",
   "metadata": {},
   "outputs": [],
   "source": [
    "import pandas as pd\n",
    "from sklearn.feature_extraction import DictVectorizer\n",
    "from sklearn.linear_model import LinearRegression\n",
    "from sklearn.metrics import mean_squared_error\n",
    "import numpy as np"
   ]
  },
  {
   "cell_type": "code",
   "execution_count": null,
   "id": "1d3c3833-31f8-4d85-93c3-a10dd5949b0b",
   "metadata": {},
   "outputs": [],
   "source": [
    "# Downloaded the data from this URL: https://www.nyc.gov/site/tlc/about/tlc-trip-record-data.page\n",
    "\n",
    "# Load the data\n",
    "df = pd.read_parquet('./data/yellow_tripdata_2023-01.parquet')\n",
    "\n",
    "# Convert both timestamps to datetime\n",
    "df.tpep_pickup_datetime = pd.to_datetime(df.tpep_pickup_datetime)\n",
    "df.tpep_dropoff_datetime = pd.to_datetime(df.tpep_dropoff_datetime)\n",
    "\n",
    "# Calculate duration in minutes\n",
    "df['duration'] = df.tpep_dropoff_datetime - df.tpep_pickup_datetime\n",
    "df.duration = df.duration.apply(lambda td: td.total_seconds() / 60)"
   ]
  },
  {
   "cell_type": "code",
   "execution_count": null,
   "id": "dce3f165-6ca1-4dfe-9635-eadc7c747e65",
   "metadata": {},
   "outputs": [],
   "source": [
    "df.dtypes"
   ]
  },
  {
   "cell_type": "markdown",
   "id": "313c5b10-3978-4db9-ba34-976aaef2d0d1",
   "metadata": {},
   "source": [
    "**Q1. Downloading the data**\n",
    "\n",
    "We'll use the same NYC taxi dataset, but instead of \"Green Taxi Trip Records\", we'll use \"Yellow Taxi Trip Records\".\n",
    "\n",
    "Download the data for January and February 2023.\n",
    "\n",
    "Read the data for January. How many columns are there?\n",
    "\n",
    "- 19"
   ]
  },
  {
   "cell_type": "code",
   "execution_count": null,
   "id": "87b0b79a-59fd-4f3a-991a-f614b6ada301",
   "metadata": {},
   "outputs": [],
   "source": [
    "df.duration.describe()"
   ]
  },
  {
   "cell_type": "markdown",
   "id": "e42ce61f-a119-4d74-bc10-11111a22c8e1",
   "metadata": {},
   "source": [
    "**Q2. Computing duration**\n",
    "\n",
    "Now let's compute the duration variable. It should contain the duration of a ride in minutes.\n",
    "\n",
    "What's the standard deviation of the trips duration in January?\n",
    "\n",
    "- 42.59"
   ]
  },
  {
   "cell_type": "code",
   "execution_count": null,
   "id": "0dec16a6-3b1f-4069-b0d0-6b80b7be5714",
   "metadata": {},
   "outputs": [],
   "source": [
    "# Store the original size\n",
    "original_size = len(df)\n",
    "\n",
    "# Filter for durations between 1 and 60 minutes (inclusive)\n",
    "df = df[(df.duration >= 1) & (df.duration <= 60)]\n",
    "\n",
    "# Calculate fraction of records left\n",
    "fraction_left = len(df) / original_size\n",
    "\n",
    "print(f\"Original number of records: {original_size}\")\n",
    "print(f\"Number of records after filtering: {len(df)}\")\n",
    "print(f\"Fraction of records left: {fraction_left:.4f}\")"
   ]
  },
  {
   "cell_type": "markdown",
   "id": "3251d691-a2f2-484f-a446-a3620d4915d2",
   "metadata": {},
   "source": [
    "**Q3. Dropping outliers**\n",
    "\n",
    "Next, we need to check the distribution of the duration variable. There are some outliers. Let's remove them and keep only the records where the duration was between 1 and 60 minutes (inclusive).\n",
    "\n",
    "What fraction of the records left after you dropped the outliers?\n",
    "\n",
    "- 98%"
   ]
  },
  {
   "cell_type": "code",
   "execution_count": null,
   "id": "b3fdca4b-24db-416c-81ab-c415b9f60d0e",
   "metadata": {},
   "outputs": [],
   "source": [
    "# Keep only the required columns (PULocationID and DOLocationID)\n",
    "df_features = df[['PULocationID', 'DOLocationID']]\n",
    "\n",
    "# Convert dataframe to list of dictionaries with string conversion\n",
    "dicts = df_features.astype(str).to_dict(orient='records')\n",
    "\n",
    "# Create and fit a DictVectorizer\n",
    "dv = DictVectorizer()\n",
    "X = dv.fit_transform(dicts)\n",
    "\n",
    "# Get the dimensionality (number of columns)\n",
    "dimensionality = X.shape[1]\n",
    "\n",
    "print(f\"Feature matrix shape: {X.shape}\")\n",
    "print(f\"Dimensionality (number of columns): {dimensionality}\")"
   ]
  },
  {
   "cell_type": "markdown",
   "id": "14db01d2-0916-40ac-b585-bc1043bad4b8",
   "metadata": {},
   "source": [
    "**Q4. One-hot encoding**\n",
    "\n",
    "Let's apply one-hot encoding to the pickup and dropoff location IDs. We'll use only these two features for our model.\n",
    "\n",
    "Turn the dataframe into a list of dictionaries (remember to re-cast the ids to strings - otherwise it will label encode them)\n",
    "Fit a dictionary vectorizer\n",
    "Get a feature matrix from it\n",
    "What's the dimensionality of this matrix (number of columns)?\n",
    "\n",
    "- 515"
   ]
  },
  {
   "cell_type": "code",
   "execution_count": null,
   "id": "8756b18d-66a2-4438-909f-421171c79bca",
   "metadata": {},
   "outputs": [],
   "source": [
    "# Features (X) from previous step - the one-hot encoded pickup and dropoff locations\n",
    "# Target variable (y) - duration\n",
    "y = df['duration']\n",
    "\n",
    "# Train a linear regression model\n",
    "lr = LinearRegression()\n",
    "lr.fit(X, y)\n",
    "\n",
    "# Make predictions on the training data\n",
    "y_pred = lr.predict(X)\n",
    "\n",
    "# Calculate RMSE on the training data\n",
    "rmse = np.sqrt(mean_squared_error(y, y_pred))\n",
    "\n",
    "print(f\"RMSE on training data: {rmse:.4f}\")"
   ]
  },
  {
   "cell_type": "markdown",
   "id": "04815fe4-1d57-4e3f-9d19-e2c947a107b7",
   "metadata": {},
   "source": [
    "**Q5. Training a model**\n",
    "\n",
    "Now let's use the feature matrix from the previous step to train a model.\n",
    "\n",
    "Train a plain linear regression model with default parameters, where duration is the response variable\n",
    "Calculate the RMSE of the model on the training data\n",
    "What's the RMSE on train?\n",
    "\n",
    "- 7.64"
   ]
  },
  {
   "cell_type": "code",
   "execution_count": null,
   "id": "a820c11c-a222-4049-8459-a6bf1230c766",
   "metadata": {},
   "outputs": [],
   "source": [
    "# Load the validation dataset (February 2023)\n",
    "val_df = pd.read_parquet('./data/yellow_tripdata_2023-02.parquet')\n",
    "\n",
    "# Apply the same preprocessing as we did for the training data\n",
    "val_df.tpep_pickup_datetime = pd.to_datetime(val_df.tpep_pickup_datetime)\n",
    "val_df.tpep_dropoff_datetime = pd.to_datetime(val_df.tpep_dropoff_datetime)\n",
    "\n",
    "# Calculate duration in minutes\n",
    "val_df['duration'] = val_df.tpep_dropoff_datetime - val_df.tpep_pickup_datetime\n",
    "val_df.duration = val_df.duration.apply(lambda td: td.total_seconds() / 60)\n",
    "\n",
    "# Filter for durations between 1 and 60 minutes (inclusive)\n",
    "val_df = val_df[(val_df.duration >= 1) & (val_df.duration <= 60)]\n",
    "\n",
    "# Prepare features - get only PULocationID and DOLocationID\n",
    "val_features = val_df[['PULocationID', 'DOLocationID']]\n",
    "\n",
    "# Convert to list of dictionaries with string conversion\n",
    "val_dicts = val_features.astype(str).to_dict(orient='records')\n",
    "\n",
    "# Transform validation data using the same DictVectorizer (don't refit)\n",
    "X_val = dv.transform(val_dicts)\n",
    "\n",
    "# Get validation target\n",
    "y_val = val_df['duration']\n",
    "\n",
    "# Make predictions using the trained model\n",
    "y_val_pred = lr.predict(X_val)\n",
    "\n",
    "# Calculate RMSE on validation data\n",
    "val_rmse = np.sqrt(mean_squared_error(y_val, y_val_pred))\n",
    "\n",
    "print(f\"RMSE on validation data: {val_rmse:.4f}\")"
   ]
  },
  {
   "cell_type": "markdown",
   "id": "4c0b6606-4664-4ff6-8c6b-d79fea5beabd",
   "metadata": {},
   "source": [
    "Q6. Evaluating the model\n",
    "\n",
    "Now let's apply this model to the validation dataset (February 2023).\n",
    "\n",
    "What's the RMSE on validation?\n",
    "\n",
    "- 7.81"
   ]
  }
 ],
 "metadata": {
  "kernelspec": {
   "display_name": "Python 3 (ipykernel)",
   "language": "python",
   "name": "python3"
  },
  "language_info": {
   "codemirror_mode": {
    "name": "ipython",
    "version": 3
   },
   "file_extension": ".py",
   "mimetype": "text/x-python",
   "name": "python",
   "nbconvert_exporter": "python",
   "pygments_lexer": "ipython3",
   "version": "3.12.6"
  }
 },
 "nbformat": 4,
 "nbformat_minor": 5
}
